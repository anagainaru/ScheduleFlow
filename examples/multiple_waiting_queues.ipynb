{
 "cells": [
  {
   "cell_type": "code",
   "execution_count": 10,
   "metadata": {},
   "outputs": [],
   "source": [
    "import sys\n",
    "sys.path.append(\"..\")\n",
    "import ScheduleFlow\n",
    "\n",
    "import numpy as np"
   ]
  },
  {
   "cell_type": "code",
   "execution_count": 11,
   "metadata": {},
   "outputs": [
    {
     "data": {
      "text/plain": [
       "[Job(Nodes: 8, Submission: 0.0, Walltime: 119.0, Request: 123.0),\n",
       " Job(Nodes: 10, Submission: 0.0, Walltime: 73.0, Request: 79.0),\n",
       " Job(Nodes: 5, Submission: 0.0, Walltime: 86.0, Request: 98.0),\n",
       " Job(Nodes: 10, Submission: 2.0, Walltime: 14.0, Request: 15.0),\n",
       " Job(Nodes: 4, Submission: 2.0, Walltime: 13.0, Request: 14.0)]"
      ]
     },
     "execution_count": 11,
     "metadata": {},
     "output_type": "execute_result"
    }
   ],
   "source": [
    "# create workload for large jobs\n",
    "def create_jobs(num_procs, num_jobs, execution, submission):\n",
    "    job_list = []\n",
    "\n",
    "    for i in range(num_jobs):\n",
    "        execution_time = np.random.randint(int(execution/1.5), execution*1.5)\n",
    "        request_time = int(execution_time * (100+np.random.randint(0, 15)) / 100)\n",
    "        processing_units = np.random.randint(1, num_procs + 1)\n",
    "        submission_time = submission\n",
    "        job_list.append(ScheduleFlow.Application(\n",
    "            processing_units,\n",
    "            submission_time,\n",
    "            execution_time,\n",
    "            [request_time]))\n",
    "    return job_list\n",
    "\n",
    "job_list = create_jobs(10, 3, 100, 0)\n",
    "job_list += create_jobs(10, 2, 10, 2)\n",
    "job_list"
   ]
  },
  {
   "cell_type": "code",
   "execution_count": 12,
   "metadata": {},
   "outputs": [],
   "source": [
    "num_processing_units = 10\n",
    "job_list = create_jobs(num_processing_units, 10, 16000, 0)\n",
    "job_list += create_jobs(num_processing_units, 10, 1600, 0)\n",
    "job_list += create_jobs(num_processing_units, 10, 320, 0)\n",
    "\n",
    "simulator = ScheduleFlow.Simulator(check_correctness=True,\n",
    "                                   loops = 10)"
   ]
  },
  {
   "cell_type": "code",
   "execution_count": 13,
   "metadata": {},
   "outputs": [
    {
     "name": "stdout",
     "output_type": "stream",
     "text": [
      "Batch Scheduler: System: 10 total nodes (10 currently free); Wait queue: total of 1; 0 jobs running\n"
     ]
    }
   ],
   "source": [
    "# One waiting queue\n",
    "\n",
    "sch = ScheduleFlow.BatchScheduler(ScheduleFlow.System(num_processing_units))\n",
    "print(sch)"
   ]
  },
  {
   "cell_type": "code",
   "execution_count": 14,
   "metadata": {},
   "outputs": [
    {
     "data": {
      "text/plain": [
       "{'job response time': 84638.69999999998,\n",
       " 'system utilization': 0.8734052382651336}"
      ]
     },
     "execution_count": 14,
     "metadata": {},
     "output_type": "execute_result"
    }
   ],
   "source": [
    "simulator.run_scenario(sch, job_list,\n",
    "                       metrics=[\"system utilization\", \"response time\"])"
   ]
  },
  {
   "cell_type": "code",
   "execution_count": 15,
   "metadata": {},
   "outputs": [
    {
     "name": "stdout",
     "output_type": "stream",
     "text": [
      "Batch Scheduler: System: 10 total nodes (10 currently free); Wait queue: total of 2; 0 jobs running\n"
     ]
    }
   ],
   "source": [
    "# Two waiting queues\n",
    "\n",
    "sch = ScheduleFlow.BatchScheduler(\n",
    "    ScheduleFlow.System(num_processing_units), total_queues=2)\n",
    "print(sch)"
   ]
  },
  {
   "cell_type": "code",
   "execution_count": 16,
   "metadata": {},
   "outputs": [
    {
     "data": {
      "text/plain": [
       "{'job response time': 67391.53333333334,\n",
       " 'system utilization': 0.9077777355189595}"
      ]
     },
     "execution_count": 16,
     "metadata": {},
     "output_type": "execute_result"
    }
   ],
   "source": [
    "simulator.run_scenario(sch, job_list,\n",
    "                       metrics=[\"system utilization\", \"response time\"])"
   ]
  },
  {
   "cell_type": "code",
   "execution_count": 17,
   "metadata": {},
   "outputs": [
    {
     "name": "stdout",
     "output_type": "stream",
     "text": [
      "Batch Scheduler: System: 10 total nodes (10 currently free); Wait queue: total of 3; 0 jobs running\n"
     ]
    }
   ],
   "source": [
    "# Three waiting queues (one main and two with lower priority)\n",
    "\n",
    "sch = ScheduleFlow.BatchScheduler(\n",
    "    ScheduleFlow.System(num_processing_units), total_queues=3)\n",
    "print(sch)"
   ]
  },
  {
   "cell_type": "code",
   "execution_count": 18,
   "metadata": {},
   "outputs": [
    {
     "data": {
      "text/plain": [
       "{'job response time': 67391.53333333334,\n",
       " 'system utilization': 0.9077777355189595}"
      ]
     },
     "execution_count": 18,
     "metadata": {},
     "output_type": "execute_result"
    }
   ],
   "source": [
    "simulator.run_scenario(sch, job_list,\n",
    "                       metrics=[\"system utilization\", \"response time\"])"
   ]
  },
  {
   "cell_type": "code",
   "execution_count": null,
   "metadata": {},
   "outputs": [],
   "source": []
  }
 ],
 "metadata": {
  "kernelspec": {
   "display_name": "Python 3",
   "language": "python",
   "name": "python3"
  },
  "language_info": {
   "codemirror_mode": {
    "name": "ipython",
    "version": 3
   },
   "file_extension": ".py",
   "mimetype": "text/x-python",
   "name": "python",
   "nbconvert_exporter": "python",
   "pygments_lexer": "ipython3",
   "version": "3.7.1"
  }
 },
 "nbformat": 4,
 "nbformat_minor": 2
}
