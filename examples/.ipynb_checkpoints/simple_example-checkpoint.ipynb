{
 "cells": [
  {
   "cell_type": "code",
   "execution_count": 1,
   "metadata": {},
   "outputs": [],
   "source": [
    "import sys\n",
    "sys.path.append(\"../\")\n",
    "import ScheduleFlow\n",
    "\n",
    "import numpy as np"
   ]
  },
  {
   "cell_type": "code",
   "execution_count": 2,
   "metadata": {},
   "outputs": [],
   "source": [
    "num_processing_units = 10"
   ]
  },
  {
   "cell_type": "code",
   "execution_count": 3,
   "metadata": {},
   "outputs": [
    {
     "name": "stdout",
     "output_type": "stream",
     "text": [
      "Job -1: 1 nodes; 0.0 submission time; 40.0 total execution time (40.0 requested)\n"
     ]
    },
    {
     "data": {
      "text/plain": [
       "{Job(Nodes: 1, Submission: 0.0, Walltime: 40.0, Request: 40.0),\n",
       " Job(Nodes: 4, Submission: 0.0, Walltime: 17.0, Request: 27.0),\n",
       " Job(Nodes: 9, Submission: 0.0, Walltime: 100.0, Request: 90.0),\n",
       " Job(Nodes: 4, Submission: 0.0, Walltime: 33.0, Request: 33.0)}"
      ]
     },
     "execution_count": 3,
     "metadata": {},
     "output_type": "execute_result"
    }
   ],
   "source": [
    "# create workload\n",
    "def create_job_list(num_processing_units, num_jobs):\n",
    "    job_list = set()\n",
    "\n",
    "    for i in range(num_jobs):\n",
    "        execution_time = np.random.randint(11, 100)\n",
    "        request_time = execution_time + int(i / 2) * 10\n",
    "        processing_units = np.random.randint(1, num_processing_units + 1)\n",
    "        submission_time = 0\n",
    "        job_list.add(ScheduleFlow.Application(\n",
    "            processing_units,\n",
    "            submission_time,\n",
    "            execution_time,\n",
    "            [request_time]))\n",
    "    job_list.add(ScheduleFlow.Application(np.random.randint(9, 11), 0,\n",
    "                                          100, [90, 135]))\n",
    "    return job_list\n",
    "\n",
    "job_list = create_job_list(num_processing_units, 3)\n",
    "print(list(job_list)[0])\n",
    "job_list"
   ]
  },
  {
   "cell_type": "code",
   "execution_count": 11,
   "metadata": {},
   "outputs": [
    {
     "data": {
      "text/plain": [
       "Simulator(GIF: False, Check_correctness: True, Loops: 10, Output: <ipykernel.iostream.OutStream object at 0x7efcba0b74e0>, Jobs: 0)"
      ]
     },
     "execution_count": 11,
     "metadata": {},
     "output_type": "execute_result"
    }
   ],
   "source": [
    "# create the simulator\n",
    "job_list = create_job_list(num_processing_units, 10)\n",
    "simulator = ScheduleFlow.Simulator(check_correctness=True,\n",
    "                                   output_file_handler=sys.stdout,\n",
    "                                   loops = 10)\n",
    "simulator"
   ]
  },
  {
   "cell_type": "code",
   "execution_count": 12,
   "metadata": {},
   "outputs": [
    {
     "name": "stdout",
     "output_type": "stream",
     "text": [
      "Batch Scheduler: System: 10 total nodes (10 currently free); 0 jobs in queue; 0 jobs running\n"
     ]
    }
   ],
   "source": [
    "sch = ScheduleFlow.BatchScheduler(ScheduleFlow.System(num_processing_units))\n",
    "print(sch)"
   ]
  },
  {
   "cell_type": "code",
   "execution_count": 13,
   "metadata": {},
   "outputs": [
    {
     "data": {
      "text/plain": [
       "Simulator(GIF: False, Check_correctness: True, Loops: 10, Output: <ipykernel.iostream.OutStream object at 0x7efcba0b74e0>, Jobs: 11)"
      ]
     },
     "execution_count": 13,
     "metadata": {},
     "output_type": "execute_result"
    }
   ],
   "source": [
    "simulator.create_scenario(sch, job_list=job_list)\n",
    "simulator"
   ]
  },
  {
   "cell_type": "code",
   "execution_count": 15,
   "metadata": {},
   "outputs": [
    {
     "name": "stdout",
     "output_type": "stream",
     "text": [
      "Scenario name : system makespan : system utilization : \n",
      "ScheduleFlow : 604.00 : 0.59 : \n",
      "ScheduleFlow : 604.00 : 0.59 : \n",
      "ScheduleFlow : 604.00 : 0.59 : \n",
      "ScheduleFlow : 604.00 : 0.59 : \n",
      "ScheduleFlow : 604.00 : 0.59 : \n",
      "ScheduleFlow : 604.00 : 0.59 : \n",
      "ScheduleFlow : 604.00 : 0.59 : \n",
      "ScheduleFlow : 604.00 : 0.59 : \n",
      "ScheduleFlow : 604.00 : 0.59 : \n",
      "ScheduleFlow : 604.00 : 0.59 : \n"
     ]
    }
   ],
   "source": [
    "results = simulator.run(metrics=[\"system\"])"
   ]
  },
  {
   "cell_type": "code",
   "execution_count": 16,
   "metadata": {},
   "outputs": [
    {
     "data": {
      "text/plain": [
       "{'system makespan': 604.0, 'system utilization': 0.5885761589403974}"
      ]
     },
     "execution_count": 16,
     "metadata": {},
     "output_type": "execute_result"
    }
   ],
   "source": [
    "results"
   ]
  },
  {
   "cell_type": "code",
   "execution_count": 9,
   "metadata": {},
   "outputs": [
    {
     "data": {
      "text/plain": [
       "Simulator(GIF: False, Check_correctness: True, Loops: 1, Output: None, Jobs: 0)"
      ]
     },
     "execution_count": 9,
     "metadata": {},
     "output_type": "execute_result"
    }
   ],
   "source": [
    "simulator = ScheduleFlow.Simulator(check_correctness=True)\n",
    "simulator"
   ]
  },
  {
   "cell_type": "code",
   "execution_count": 10,
   "metadata": {},
   "outputs": [
    {
     "name": "stdout",
     "output_type": "stream",
     "text": [
      "{'job response time': 337.6818181818182, 'job utilization': 0.6924517298670654, 'job wait time': 253.79166666666669, 'system utilization': 0.5787426549583792}\n"
     ]
    }
   ],
   "source": [
    "loops = 2\n",
    "avg_results = {}\n",
    "for i in range(loops):\n",
    "    job_list = create_job_list(num_processing_units, 10)\n",
    "    results = simulator.run_scenario(\n",
    "        sch,\n",
    "        job_list,\n",
    "        metrics=[\"utilization\", \"response time\", \"wait time\"])\n",
    "    if len(avg_results)==0:\n",
    "        avg_results = results\n",
    "    else:\n",
    "        avg_results = {i:avg_results[i]+results[i] for i in avg_results}\n",
    "avg_results = {i:avg_results[i]/loops for i in avg_results}\n",
    "print(avg_results)"
   ]
  },
  {
   "cell_type": "code",
   "execution_count": null,
   "metadata": {},
   "outputs": [],
   "source": []
  }
 ],
 "metadata": {
  "kernelspec": {
   "display_name": "Python 3",
   "language": "python",
   "name": "python3"
  },
  "language_info": {
   "codemirror_mode": {
    "name": "ipython",
    "version": 3
   },
   "file_extension": ".py",
   "mimetype": "text/x-python",
   "name": "python",
   "nbconvert_exporter": "python",
   "pygments_lexer": "ipython3",
   "version": "3.7.1"
  }
 },
 "nbformat": 4,
 "nbformat_minor": 2
}
