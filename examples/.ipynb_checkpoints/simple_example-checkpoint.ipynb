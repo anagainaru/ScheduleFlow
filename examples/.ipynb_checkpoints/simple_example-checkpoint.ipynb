{
 "cells": [
  {
   "cell_type": "code",
   "execution_count": 4,
   "metadata": {},
   "outputs": [],
   "source": [
    "import sys\n",
    "sys.path.append(\"../\")\n",
    "import ScheduleFlow\n",
    "\n",
    "import numpy as np"
   ]
  },
  {
   "cell_type": "code",
   "execution_count": 6,
   "metadata": {},
   "outputs": [],
   "source": [
    "num_processing_units = 10"
   ]
  },
  {
   "cell_type": "code",
   "execution_count": 7,
   "metadata": {},
   "outputs": [],
   "source": [
    "# create workload\n",
    "job_list = set()\n",
    "\n",
    "for i in range(10):\n",
    "    execution_time = np.random.randint(11, 100)\n",
    "    request_time = execution_time + int(i / 2) * 10\n",
    "    processing_units = np.random.randint(1, num_processing_units + 1)\n",
    "    submission_time = 0\n",
    "    job_list.add(ScheduleFlow.Application(\n",
    "        processing_units,\n",
    "        submission_time,\n",
    "        execution_time,\n",
    "        [request_time]))\n",
    "job_list.add(ScheduleFlow.Application(np.random.randint(9, 11), 0,\n",
    "                                      100, [90, 135]))"
   ]
  },
  {
   "cell_type": "code",
   "execution_count": 10,
   "metadata": {},
   "outputs": [],
   "source": [
    "# create the simulator\n",
    "simulator = ScheduleFlow.Simulator(check_correctness=True,\n",
    "                                   output_file_handler=sys.stdout,\n",
    "                                   loops = 10)"
   ]
  },
  {
   "cell_type": "code",
   "execution_count": 11,
   "metadata": {},
   "outputs": [
    {
     "name": "stdout",
     "output_type": "stream",
     "text": [
      "Scenario name : job failures : job response time : job stretch : job utilization : job wait time : system makespan : system utilization : \n",
      "test_batch : 1.00 : 339.27 : 8.19 : 0.70 : 249.67 : 570.00 : 0.58 : \n",
      "test_batch : 1.00 : 339.27 : 8.19 : 0.70 : 249.67 : 570.00 : 0.58 : \n",
      "test_batch : 1.00 : 339.27 : 8.19 : 0.70 : 249.67 : 570.00 : 0.58 : \n",
      "test_batch : 1.00 : 339.27 : 8.19 : 0.70 : 249.67 : 570.00 : 0.58 : \n",
      "test_batch : 1.00 : 339.27 : 8.19 : 0.70 : 249.67 : 570.00 : 0.58 : \n",
      "test_batch : 1.00 : 339.27 : 8.19 : 0.70 : 249.67 : 570.00 : 0.58 : \n",
      "test_batch : 1.00 : 339.27 : 8.19 : 0.70 : 249.67 : 570.00 : 0.58 : \n",
      "test_batch : 1.00 : 339.27 : 8.19 : 0.70 : 249.67 : 570.00 : 0.58 : \n",
      "test_batch : 1.00 : 339.27 : 8.19 : 0.70 : 249.67 : 570.00 : 0.58 : \n",
      "test_batch : 1.00 : 339.27 : 8.19 : 0.70 : 249.67 : 570.00 : 0.58 : \n"
     ]
    }
   ],
   "source": [
    "sch = ScheduleFlow.BatchScheduler(ScheduleFlow.System(num_processing_units))\n",
    "simulator.create_scenario(\"test_batch\", sch, job_list=job_list)\n",
    "results = simulator.run()"
   ]
  },
  {
   "cell_type": "code",
   "execution_count": 12,
   "metadata": {},
   "outputs": [
    {
     "data": {
      "text/plain": [
       "{'job failures': 1.0,\n",
       " 'job response time': 339.2727272727272,\n",
       " 'job stretch': 8.18948313623329,\n",
       " 'job utilization': 0.6987155740283263,\n",
       " 'job wait time': 249.66666666666666,\n",
       " 'system makespan': 570.0,\n",
       " 'system utilization': 0.5792982456140352}"
      ]
     },
     "execution_count": 12,
     "metadata": {},
     "output_type": "execute_result"
    }
   ],
   "source": [
    "results"
   ]
  },
  {
   "cell_type": "code",
   "execution_count": null,
   "metadata": {},
   "outputs": [],
   "source": []
  }
 ],
 "metadata": {
  "kernelspec": {
   "display_name": "Python 3",
   "language": "python",
   "name": "python3"
  },
  "language_info": {
   "codemirror_mode": {
    "name": "ipython",
    "version": 3
   },
   "file_extension": ".py",
   "mimetype": "text/x-python",
   "name": "python",
   "nbconvert_exporter": "python",
   "pygments_lexer": "ipython3",
   "version": "3.7.1"
  }
 },
 "nbformat": 4,
 "nbformat_minor": 2
}
