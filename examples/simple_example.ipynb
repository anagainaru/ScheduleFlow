{
 "cells": [
  {
   "cell_type": "markdown",
   "metadata": {},
   "source": [
    "# ScheduleFlow \n",
    "\n",
    "Simple example for running a simulation of online or batch schedulers"
   ]
  },
  {
   "cell_type": "code",
   "execution_count": 1,
   "metadata": {},
   "outputs": [],
   "source": [
    "import sys\n",
    "sys.path.append(\"..\")\n",
    "import ScheduleFlow\n",
    "\n",
    "import numpy as np"
   ]
  },
  {
   "cell_type": "code",
   "execution_count": 2,
   "metadata": {},
   "outputs": [],
   "source": [
    "num_processing_units = 10"
   ]
  },
  {
   "cell_type": "markdown",
   "metadata": {},
   "source": [
    "## 1. Creating the workload \n",
    "\n",
    "The workload consist of *num_jobs* jobs:\n",
    " - Running for x seconds (with x randomly chosen between 10 and 100)\n",
    " - Two of them requesting the exact walltime\n",
    " - The rest requesting more time than needed (in increments of 10 seconds)\n",
    " - Executing on random number of processing units (between 1 and *num_processig_units*)\n",
    " \n",
    "The workload has an extra job runnning for 100 seconds on the entire machine and requesting 90 seconds. In case of failure the second submission will request 135 seconds."
   ]
  },
  {
   "cell_type": "code",
   "execution_count": 3,
   "metadata": {},
   "outputs": [
    {
     "name": "stdout",
     "output_type": "stream",
     "text": [
      "Job -1: 3 nodes; 0.0 submission time; 12.0 total execution time (12.0 requested)\n"
     ]
    },
    {
     "data": {
      "text/plain": [
       "{Job(Nodes: 3, Submission: 0.0, Walltime: 12.0, Request: 12.0),\n",
       " Job(Nodes: 7, Submission: 0.0, Walltime: 43.0, Request: 43.0),\n",
       " Job(Nodes: 9, Submission: 0.0, Walltime: 96.0, Request: 106.0),\n",
       " Job(Nodes: 10, Submission: 0.0, Walltime: 100.0, Request: 90.0)}"
      ]
     },
     "execution_count": 3,
     "metadata": {},
     "output_type": "execute_result"
    }
   ],
   "source": [
    "def create_job_list(num_processing_units, num_jobs):\n",
    "    job_list = set()\n",
    "\n",
    "    for i in range(num_jobs):\n",
    "        execution_time = np.random.randint(10, 101)\n",
    "        request_time = execution_time + int(i / 2) * 10\n",
    "        processing_units = np.random.randint(1, num_processing_units + 1)\n",
    "        submission_time = 0\n",
    "        job_list.add(ScheduleFlow.Application(\n",
    "            processing_units,\n",
    "            submission_time,\n",
    "            execution_time,\n",
    "            [request_time]))\n",
    "    job_list.add(ScheduleFlow.Application(num_processing_units, 0,\n",
    "                                          100, [90, 135]))\n",
    "    return job_list\n",
    "\n",
    "job_list = create_job_list(num_processing_units, 3)\n",
    "print(list(job_list)[0])\n",
    "job_list"
   ]
  },
  {
   "cell_type": "markdown",
   "metadata": {},
   "source": [
    "## 2. Creating the simulation scenario\n",
    "\n",
    "- Workload of 10 sucessfull jobs and one failed\n",
    "- Checks for correctness at the end\n",
    "- Outputs the results on stdout\n",
    "- Uses 10 loops and returns the average metrics\n",
    "\n",
    "The simulation uses a **batch scheduler** "
   ]
  },
  {
   "cell_type": "code",
   "execution_count": 4,
   "metadata": {},
   "outputs": [
    {
     "data": {
      "text/plain": [
       "Simulator(GIF: False, Check_correctness: True, Loops: 10, Output: <ipykernel.iostream.OutStream object at 0x7f957091f5f8>, Jobs: 0)"
      ]
     },
     "execution_count": 4,
     "metadata": {},
     "output_type": "execute_result"
    }
   ],
   "source": [
    "# create the simulator\n",
    "job_list = create_job_list(num_processing_units, 10)\n",
    "simulator = ScheduleFlow.Simulator(check_correctness=True,\n",
    "                                   output_file_handler=sys.stdout,\n",
    "                                   loops = 10)\n",
    "simulator"
   ]
  },
  {
   "cell_type": "code",
   "execution_count": 5,
   "metadata": {},
   "outputs": [
    {
     "name": "stdout",
     "output_type": "stream",
     "text": [
      "Batch Scheduler: System: 10 total nodes (10 currently free); Wait queue: total of 1; 0 jobs running\n"
     ]
    }
   ],
   "source": [
    "sch = ScheduleFlow.Scheduler(ScheduleFlow.System(num_processing_units))\n",
    "print(sch)"
   ]
  },
  {
   "cell_type": "code",
   "execution_count": 6,
   "metadata": {},
   "outputs": [
    {
     "data": {
      "text/plain": [
       "Simulator(GIF: False, Check_correctness: True, Loops: 10, Output: <ipykernel.iostream.OutStream object at 0x7f957091f5f8>, Jobs: 11)"
      ]
     },
     "execution_count": 6,
     "metadata": {},
     "output_type": "execute_result"
    }
   ],
   "source": [
    "simulator.create_scenario(sch, job_list=job_list)\n",
    "simulator"
   ]
  },
  {
   "cell_type": "markdown",
   "metadata": {},
   "source": [
    "## 3. Get the results\n",
    "\n",
    "The simulator run function *outputs the results* of each loop on the handler provided (stdout in this case) and *returns a structure with the average performance* for each metric."
   ]
  },
  {
   "cell_type": "code",
   "execution_count": 7,
   "metadata": {},
   "outputs": [
    {
     "name": "stdout",
     "output_type": "stream",
     "text": [
      "Scenario name : system makespan : system utilization : \n",
      "ScheduleFlow : 791.00 : 0.54 : \n",
      "ScheduleFlow : 791.00 : 0.54 : \n",
      "ScheduleFlow : 791.00 : 0.54 : \n",
      "ScheduleFlow : 791.00 : 0.54 : \n",
      "ScheduleFlow : 791.00 : 0.54 : \n",
      "ScheduleFlow : 791.00 : 0.54 : \n",
      "ScheduleFlow : 791.00 : 0.54 : \n",
      "ScheduleFlow : 791.00 : 0.54 : \n",
      "ScheduleFlow : 791.00 : 0.54 : \n",
      "ScheduleFlow : 791.00 : 0.54 : \n"
     ]
    }
   ],
   "source": [
    "results = simulator.run(metrics=[\"system\"])"
   ]
  },
  {
   "cell_type": "code",
   "execution_count": 8,
   "metadata": {},
   "outputs": [
    {
     "data": {
      "text/plain": [
       "{'system makespan': 791.0, 'system utilization': 0.5391908975979771}"
      ]
     },
     "execution_count": 8,
     "metadata": {},
     "output_type": "execute_result"
    }
   ],
   "source": [
    "results"
   ]
  },
  {
   "cell_type": "markdown",
   "metadata": {},
   "source": [
    "# Example to test correctness\n",
    "\n",
    "- The loops withing the same workload is set to 1\n",
    "- We run the simulation 10 times over different workloads and return the average utilization"
   ]
  },
  {
   "cell_type": "code",
   "execution_count": 9,
   "metadata": {},
   "outputs": [
    {
     "data": {
      "text/plain": [
       "Simulator(GIF: False, Check_correctness: True, Loops: 1, Output: None, Jobs: 0)"
      ]
     },
     "execution_count": 9,
     "metadata": {},
     "output_type": "execute_result"
    }
   ],
   "source": [
    "simulator = ScheduleFlow.Simulator(check_correctness=True)\n",
    "simulator"
   ]
  },
  {
   "cell_type": "code",
   "execution_count": 10,
   "metadata": {},
   "outputs": [
    {
     "name": "stdout",
     "output_type": "stream",
     "text": [
      "{'job utilization': 0.7231119245082526, 'system utilization': 0.5986555376063898}\n"
     ]
    }
   ],
   "source": [
    "loops = 10\n",
    "avg_results = {}\n",
    "for i in range(loops):\n",
    "    job_list = create_job_list(num_processing_units, 10)\n",
    "    results = simulator.run_scenario(\n",
    "        sch,\n",
    "        job_list,\n",
    "        metrics=[\"utilization\"])\n",
    "    if len(avg_results)==0:\n",
    "        avg_results = results\n",
    "    else:\n",
    "        avg_results = {i:avg_results[i]+results[i] for i in avg_results}\n",
    "avg_results = {i:avg_results[i]/loops for i in avg_results}\n",
    "print(avg_results)"
   ]
  },
  {
   "cell_type": "code",
   "execution_count": 11,
   "metadata": {},
   "outputs": [
    {
     "data": {
      "text/plain": [
       "{'job failures': 1,\n",
       " 'job response time': 473.0,\n",
       " 'job stretch': 13.151740104620387,\n",
       " 'job utilization': 0.6760499179855756,\n",
       " 'job wait time': 376.3333333333333,\n",
       " 'system makespan': 716,\n",
       " 'system utilization': 0.590782122905028}"
      ]
     },
     "execution_count": 11,
     "metadata": {},
     "output_type": "execute_result"
    }
   ],
   "source": [
    "# get all statistics for the last simulation run\n",
    "simulator.get_stats_metrics([\"all\"])"
   ]
  },
  {
   "cell_type": "code",
   "execution_count": 12,
   "metadata": {},
   "outputs": [
    {
     "data": {
      "text/plain": [
       "0"
      ]
     },
     "execution_count": 12,
     "metadata": {},
     "output_type": "execute_result"
    }
   ],
   "source": [
    "execution_log = simulator.get_execution_log()\n",
    "simulator.test_correctness(execution_log=execution_log)"
   ]
  },
  {
   "cell_type": "markdown",
   "metadata": {},
   "source": [
    "## Inject failures in the execution log"
   ]
  },
  {
   "cell_type": "markdown",
   "metadata": {},
   "source": [
    "### 1. Within one jobs execution\n",
    "\n",
    "For the failed job, make the second execution start before the ending of the first"
   ]
  },
  {
   "cell_type": "code",
   "execution_count": 13,
   "metadata": {},
   "outputs": [
    {
     "name": "stderr",
     "output_type": "stream",
     "text": [
      "Job 6: 10 nodes; 0.0 submission time; 100.0 total execution time (90.0 requested) did not pass the sanity check: [[1250, 1340], [1339, 1439]]\n"
     ]
    },
    {
     "data": {
      "text/plain": [
       "1"
      ]
     },
     "execution_count": 13,
     "metadata": {},
     "output_type": "execute_result"
    }
   ],
   "source": [
    "# inject incorrect execution sequences into the log\n",
    "for job in execution_log:\n",
    "    # insert an out of order execution for the failed job\n",
    "    if len(execution_log[job])>1:\n",
    "        # move the execution of the failed job to the end of the log\n",
    "        execution_log[job] = [[i[0]+1000, i[1]+1000] for i in execution_log[job]]\n",
    "        # overlap the beginning of the second instance with the first one\n",
    "        execution_log[job][1][0] = execution_log[job][0][1] - 1\n",
    "        execution_log[job][1][1] = execution_log[job][1][0] + job.walltime\n",
    "        break\n",
    "\n",
    "simulator.test_correctness(execution_log=execution_log)"
   ]
  },
  {
   "cell_type": "markdown",
   "metadata": {},
   "source": [
    "### 2. Between all jobs executions\n",
    "\n",
    "Move the first execution of the failed job (*which uses the entire machine*) over a moment when other jobs are running"
   ]
  },
  {
   "cell_type": "code",
   "execution_count": 14,
   "metadata": {},
   "outputs": [
    {
     "name": "stderr",
     "output_type": "stream",
     "text": [
      "Full schedule did not pass sanity check\n"
     ]
    },
    {
     "data": {
      "text/plain": [
       "1"
      ]
     },
     "execution_count": 14,
     "metadata": {},
     "output_type": "execute_result"
    }
   ],
   "source": [
    "# create moments when more than total nodes are allocated\n",
    "start = 0\n",
    "for job in execution_log:\n",
    "    # move the first instance of the failed job to the beginning on the simulation\n",
    "    if len(execution_log[job])>1:\n",
    "        if execution_log[job][0][0] == 1000:\n",
    "            start = 100\n",
    "        end = start + job.request_walltime\n",
    "        execution_log[job][0][0] = start\n",
    "        execution_log[job][0][1] = end\n",
    "simulator.test_correctness(execution_log=execution_log)"
   ]
  },
  {
   "cell_type": "code",
   "execution_count": 15,
   "metadata": {},
   "outputs": [
    {
     "name": "stdout",
     "output_type": "stream",
     "text": [
      "Job 2: 9 nodes; 0.0 submission time; 95.0 total execution time (125.0 requested)\n",
      "[[0, 95]]\n",
      "Job 6: 10 nodes; 0.0 submission time; 100.0 total execution time (90.0 requested)\n",
      "[[0, 90], [1339, 1439]]\n"
     ]
    }
   ],
   "source": [
    "# plot all the timeslots that fail the full schedule sanity check\n",
    "for job in execution_log:\n",
    "    if execution_log[job][0][0] <= end and (execution_log[job][0][0]+job.request_walltime) >= start:\n",
    "        print(job)\n",
    "        print(execution_log[job])"
   ]
  },
  {
   "cell_type": "code",
   "execution_count": null,
   "metadata": {},
   "outputs": [],
   "source": []
  }
 ],
 "metadata": {
  "kernelspec": {
   "display_name": "Python 3",
   "language": "python",
   "name": "python3"
  },
  "language_info": {
   "codemirror_mode": {
    "name": "ipython",
    "version": 3
   },
   "file_extension": ".py",
   "mimetype": "text/x-python",
   "name": "python",
   "nbconvert_exporter": "python",
   "pygments_lexer": "ipython3",
   "version": "3.7.1"
  }
 },
 "nbformat": 4,
 "nbformat_minor": 2
}
