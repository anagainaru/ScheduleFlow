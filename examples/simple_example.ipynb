{
 "cells": [
  {
   "cell_type": "code",
   "execution_count": 1,
   "metadata": {},
   "outputs": [],
   "source": [
    "import sys\n",
    "sys.path.append(\"..\")\n",
    "import ScheduleFlow\n",
    "\n",
    "import numpy as np"
   ]
  },
  {
   "cell_type": "code",
   "execution_count": 2,
   "metadata": {},
   "outputs": [],
   "source": [
    "num_processing_units = 10"
   ]
  },
  {
   "cell_type": "code",
   "execution_count": 3,
   "metadata": {},
   "outputs": [
    {
     "name": "stdout",
     "output_type": "stream",
     "text": [
      "Job -1: 9 nodes; 0.0 submission time; 18.0 total execution time (18.0 requested)\n"
     ]
    },
    {
     "data": {
      "text/plain": [
       "{Job(Nodes: 9, Submission: 0.0, Walltime: 18.0, Request: 18.0),\n",
       " Job(Nodes: 2, Submission: 0.0, Walltime: 67.0, Request: 77.0),\n",
       " Job(Nodes: 10, Submission: 0.0, Walltime: 100.0, Request: 90.0),\n",
       " Job(Nodes: 8, Submission: 0.0, Walltime: 95.0, Request: 95.0)}"
      ]
     },
     "execution_count": 3,
     "metadata": {},
     "output_type": "execute_result"
    }
   ],
   "source": [
    "# create workload\n",
    "def create_job_list(num_processing_units, num_jobs):\n",
    "    job_list = set()\n",
    "\n",
    "    for i in range(num_jobs):\n",
    "        execution_time = np.random.randint(11, 100)\n",
    "        request_time = execution_time + int(i / 2) * 10\n",
    "        processing_units = np.random.randint(1, num_processing_units + 1)\n",
    "        submission_time = 0\n",
    "        job_list.add(ScheduleFlow.Application(\n",
    "            processing_units,\n",
    "            submission_time,\n",
    "            execution_time,\n",
    "            [request_time]))\n",
    "    job_list.add(ScheduleFlow.Application(np.random.randint(9, 11), 0,\n",
    "                                          100, [90, 135]))\n",
    "    return job_list\n",
    "\n",
    "job_list = create_job_list(num_processing_units, 3)\n",
    "print(list(job_list)[0])\n",
    "job_list"
   ]
  },
  {
   "cell_type": "code",
   "execution_count": 4,
   "metadata": {},
   "outputs": [
    {
     "data": {
      "text/plain": [
       "Simulator(GIF: False, Check_correctness: True, Loops: 10, Output: <ipykernel.iostream.OutStream object at 0x7fbde6f35128>, Jobs: 0)"
      ]
     },
     "execution_count": 4,
     "metadata": {},
     "output_type": "execute_result"
    }
   ],
   "source": [
    "# create the simulator\n",
    "job_list = create_job_list(num_processing_units, 10)\n",
    "simulator = ScheduleFlow.Simulator(check_correctness=True,\n",
    "                                   output_file_handler=sys.stdout,\n",
    "                                   loops = 10)\n",
    "simulator"
   ]
  },
  {
   "cell_type": "code",
   "execution_count": 5,
   "metadata": {},
   "outputs": [
    {
     "name": "stdout",
     "output_type": "stream",
     "text": [
      "Batch Scheduler: System: 10 total nodes (10 currently free); 0 jobs in queue; 0 jobs running\n"
     ]
    }
   ],
   "source": [
    "sch = ScheduleFlow.BatchScheduler(ScheduleFlow.System(num_processing_units))\n",
    "print(sch)"
   ]
  },
  {
   "cell_type": "code",
   "execution_count": 6,
   "metadata": {},
   "outputs": [
    {
     "data": {
      "text/plain": [
       "Simulator(GIF: False, Check_correctness: True, Loops: 10, Output: <ipykernel.iostream.OutStream object at 0x7fbde6f35128>, Jobs: 11)"
      ]
     },
     "execution_count": 6,
     "metadata": {},
     "output_type": "execute_result"
    }
   ],
   "source": [
    "simulator.create_scenario(sch, job_list=job_list)\n",
    "simulator"
   ]
  },
  {
   "cell_type": "code",
   "execution_count": 7,
   "metadata": {},
   "outputs": [
    {
     "name": "stdout",
     "output_type": "stream",
     "text": [
      "Scenario name : system makespan : system utilization : \n",
      "ScheduleFlow : 559.00 : 0.65 : \n",
      "ScheduleFlow : 559.00 : 0.65 : \n",
      "ScheduleFlow : 559.00 : 0.65 : \n",
      "ScheduleFlow : 559.00 : 0.65 : \n",
      "ScheduleFlow : 559.00 : 0.65 : \n",
      "ScheduleFlow : 559.00 : 0.65 : \n",
      "ScheduleFlow : 559.00 : 0.65 : \n",
      "ScheduleFlow : 559.00 : 0.65 : \n",
      "ScheduleFlow : 559.00 : 0.65 : \n",
      "ScheduleFlow : 559.00 : 0.65 : \n"
     ]
    }
   ],
   "source": [
    "results = simulator.run(metrics=[\"system\"])"
   ]
  },
  {
   "cell_type": "code",
   "execution_count": 8,
   "metadata": {},
   "outputs": [
    {
     "data": {
      "text/plain": [
       "{'system makespan': 559.0, 'system utilization': 0.6543828264758497}"
      ]
     },
     "execution_count": 8,
     "metadata": {},
     "output_type": "execute_result"
    }
   ],
   "source": [
    "results"
   ]
  },
  {
   "cell_type": "code",
   "execution_count": 9,
   "metadata": {},
   "outputs": [
    {
     "data": {
      "text/plain": [
       "Simulator(GIF: False, Check_correctness: True, Loops: 1, Output: None, Jobs: 0)"
      ]
     },
     "execution_count": 9,
     "metadata": {},
     "output_type": "execute_result"
    }
   ],
   "source": [
    "simulator = ScheduleFlow.Simulator(check_correctness=True)\n",
    "simulator"
   ]
  },
  {
   "cell_type": "code",
   "execution_count": 10,
   "metadata": {},
   "outputs": [
    {
     "name": "stdout",
     "output_type": "stream",
     "text": [
      "{'job response time': 343.6363636363636, 'job utilization': 0.6737169716419886, 'job wait time': 260.20833333333337, 'system utilization': 0.6015227195973549}\n"
     ]
    }
   ],
   "source": [
    "loops = 2\n",
    "avg_results = {}\n",
    "for i in range(loops):\n",
    "    job_list = create_job_list(num_processing_units, 10)\n",
    "    results = simulator.run_scenario(\n",
    "        sch,\n",
    "        job_list,\n",
    "        metrics=[\"utilization\", \"response time\", \"wait time\"])\n",
    "    if len(avg_results)==0:\n",
    "        avg_results = results\n",
    "    else:\n",
    "        avg_results = {i:avg_results[i]+results[i] for i in avg_results}\n",
    "avg_results = {i:avg_results[i]/loops for i in avg_results}\n",
    "print(avg_results)"
   ]
  },
  {
   "cell_type": "code",
   "execution_count": null,
   "metadata": {},
   "outputs": [],
   "source": []
  }
 ],
 "metadata": {
  "kernelspec": {
   "display_name": "Python 3",
   "language": "python",
   "name": "python3"
  },
  "language_info": {
   "codemirror_mode": {
    "name": "ipython",
    "version": 3
   },
   "file_extension": ".py",
   "mimetype": "text/x-python",
   "name": "python",
   "nbconvert_exporter": "python",
   "pygments_lexer": "ipython3",
   "version": "3.7.1"
  }
 },
 "nbformat": 4,
 "nbformat_minor": 2
}
