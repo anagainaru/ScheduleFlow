{
 "cells": [
  {
   "cell_type": "code",
   "execution_count": 1,
   "metadata": {},
   "outputs": [],
   "source": [
    "import sys\n",
    "sys.path.append(\"..\")\n",
    "import ScheduleFlow\n",
    "\n",
    "import numpy as np"
   ]
  },
  {
   "cell_type": "code",
   "execution_count": 2,
   "metadata": {},
   "outputs": [],
   "source": [
    "num_processing_units = 10"
   ]
  },
  {
   "cell_type": "code",
   "execution_count": 3,
   "metadata": {},
   "outputs": [
    {
     "name": "stdout",
     "output_type": "stream",
     "text": [
      "Job -1: 8 nodes; 0.0 submission time; 39.0 total execution time (49.0 requested)\n"
     ]
    },
    {
     "data": {
      "text/plain": [
       "{Job(Nodes: 8, Submission: 0.0, Walltime: 39.0, Request: 49.0),\n",
       " Job(Nodes: 5, Submission: 0.0, Walltime: 81.0, Request: 81.0),\n",
       " Job(Nodes: 10, Submission: 0.0, Walltime: 100.0, Request: 90.0),\n",
       " Job(Nodes: 1, Submission: 0.0, Walltime: 68.0, Request: 68.0)}"
      ]
     },
     "execution_count": 3,
     "metadata": {},
     "output_type": "execute_result"
    }
   ],
   "source": [
    "# create workload\n",
    "def create_job_list(num_processing_units, num_jobs):\n",
    "    job_list = set()\n",
    "\n",
    "    for i in range(num_jobs):\n",
    "        execution_time = np.random.randint(11, 100)\n",
    "        request_time = execution_time + int(i / 2) * 10\n",
    "        processing_units = np.random.randint(1, num_processing_units + 1)\n",
    "        submission_time = 0\n",
    "        job_list.add(ScheduleFlow.Application(\n",
    "            processing_units,\n",
    "            submission_time,\n",
    "            execution_time,\n",
    "            [request_time]))\n",
    "    job_list.add(ScheduleFlow.Application(np.random.randint(9, 11), 0,\n",
    "                                          100, [90, 135]))\n",
    "    return job_list\n",
    "\n",
    "job_list = create_job_list(num_processing_units, 3)\n",
    "print(list(job_list)[0])\n",
    "job_list"
   ]
  },
  {
   "cell_type": "code",
   "execution_count": 4,
   "metadata": {},
   "outputs": [
    {
     "data": {
      "text/plain": [
       "Simulator(GIF: False, Check_correctness: True, Loops: 10, Output: <ipykernel.iostream.OutStream object at 0x7fa574b793c8>, Jobs: 0)"
      ]
     },
     "execution_count": 4,
     "metadata": {},
     "output_type": "execute_result"
    }
   ],
   "source": [
    "# create the simulator\n",
    "job_list = create_job_list(num_processing_units, 10)\n",
    "simulator = ScheduleFlow.Simulator(check_correctness=True,\n",
    "                                   output_file_handler=sys.stdout,\n",
    "                                   loops = 10)\n",
    "simulator"
   ]
  },
  {
   "cell_type": "code",
   "execution_count": 5,
   "metadata": {},
   "outputs": [
    {
     "name": "stdout",
     "output_type": "stream",
     "text": [
      "Batch Scheduler: System: 10 total nodes (10 currently free); 0 jobs in queue; 0 jobs running\n"
     ]
    }
   ],
   "source": [
    "sch = ScheduleFlow.BatchScheduler(ScheduleFlow.System(num_processing_units))\n",
    "print(sch)"
   ]
  },
  {
   "cell_type": "code",
   "execution_count": 6,
   "metadata": {},
   "outputs": [
    {
     "data": {
      "text/plain": [
       "Simulator(GIF: False, Check_correctness: True, Loops: 10, Output: <ipykernel.iostream.OutStream object at 0x7fa574b793c8>, Jobs: 11)"
      ]
     },
     "execution_count": 6,
     "metadata": {},
     "output_type": "execute_result"
    }
   ],
   "source": [
    "simulator.create_scenario(sch, job_list=job_list)\n",
    "simulator"
   ]
  },
  {
   "cell_type": "code",
   "execution_count": 7,
   "metadata": {},
   "outputs": [
    {
     "name": "stdout",
     "output_type": "stream",
     "text": [
      "Scenario name : system makespan : system utilization : \n",
      "ScheduleFlow : 809.00 : 0.64 : \n",
      "ScheduleFlow : 809.00 : 0.64 : \n",
      "ScheduleFlow : 809.00 : 0.64 : \n",
      "ScheduleFlow : 809.00 : 0.64 : \n",
      "ScheduleFlow : 809.00 : 0.64 : \n",
      "ScheduleFlow : 809.00 : 0.64 : \n",
      "ScheduleFlow : 809.00 : 0.64 : \n",
      "ScheduleFlow : 809.00 : 0.64 : \n",
      "ScheduleFlow : 809.00 : 0.64 : \n",
      "ScheduleFlow : 809.00 : 0.64 : \n"
     ]
    }
   ],
   "source": [
    "results = simulator.run(metrics=[\"system\"])"
   ]
  },
  {
   "cell_type": "code",
   "execution_count": 8,
   "metadata": {},
   "outputs": [
    {
     "data": {
      "text/plain": [
       "{'system makespan': 809.0, 'system utilization': 0.6372064276885042}"
      ]
     },
     "execution_count": 8,
     "metadata": {},
     "output_type": "execute_result"
    }
   ],
   "source": [
    "results"
   ]
  },
  {
   "cell_type": "code",
   "execution_count": 9,
   "metadata": {},
   "outputs": [
    {
     "data": {
      "text/plain": [
       "Simulator(GIF: False, Check_correctness: True, Loops: 1, Output: None, Jobs: 0)"
      ]
     },
     "execution_count": 9,
     "metadata": {},
     "output_type": "execute_result"
    }
   ],
   "source": [
    "simulator = ScheduleFlow.Simulator(check_correctness=True)\n",
    "simulator"
   ]
  },
  {
   "cell_type": "code",
   "execution_count": 10,
   "metadata": {},
   "outputs": [
    {
     "name": "stdout",
     "output_type": "stream",
     "text": [
      "{'job response time': 327.59090909090907, 'job utilization': 0.730040741024333, 'job wait time': 236.45833333333334, 'system utilization': 0.6490631919923395}\n"
     ]
    }
   ],
   "source": [
    "loops = 2\n",
    "avg_results = {}\n",
    "for i in range(loops):\n",
    "    job_list = create_job_list(num_processing_units, 10)\n",
    "    results = simulator.run_scenario(\n",
    "        sch,\n",
    "        job_list,\n",
    "        metrics=[\"utilization\", \"response time\", \"wait time\"])\n",
    "    if len(avg_results)==0:\n",
    "        avg_results = results\n",
    "    else:\n",
    "        avg_results = {i:avg_results[i]+results[i] for i in avg_results}\n",
    "avg_results = {i:avg_results[i]/loops for i in avg_results}\n",
    "print(avg_results)"
   ]
  },
  {
   "cell_type": "code",
   "execution_count": 11,
   "metadata": {},
   "outputs": [
    {
     "data": {
      "text/plain": [
       "{'job failures': 1,\n",
       " 'job response time': 347.09090909090907,\n",
       " 'job stretch': 6.0089726156858605,\n",
       " 'job utilization': 0.7633254713026606,\n",
       " 'job wait time': 246.08333333333334,\n",
       " 'system makespan': 539,\n",
       " 'system utilization': 0.6890538033395176}"
      ]
     },
     "execution_count": 11,
     "metadata": {},
     "output_type": "execute_result"
    }
   ],
   "source": [
    "# get all statistics for the last simulation\n",
    "simulator.get_stats_metrics([\"all\"])"
   ]
  },
  {
   "cell_type": "code",
   "execution_count": 12,
   "metadata": {},
   "outputs": [
    {
     "data": {
      "text/plain": [
       "0"
      ]
     },
     "execution_count": 12,
     "metadata": {},
     "output_type": "execute_result"
    }
   ],
   "source": [
    "execution_log = simulator.get_execution_log()\n",
    "simulator.test_correctness(execution_log=execution_log)"
   ]
  },
  {
   "cell_type": "code",
   "execution_count": 13,
   "metadata": {},
   "outputs": [
    {
     "name": "stderr",
     "output_type": "stream",
     "text": [
      "Job 0: 10 nodes; 0.0 submission time; 100.0 total execution time (90.0 requested) did not pass the sanity check: [[1000, 1090], [1089, 1189]]\n"
     ]
    },
    {
     "data": {
      "text/plain": [
       "1"
      ]
     },
     "execution_count": 13,
     "metadata": {},
     "output_type": "execute_result"
    }
   ],
   "source": [
    "# inject incorrect execution sequences into the log\n",
    "for job in execution_log:\n",
    "    # insert an out of order execution for the failed job\n",
    "    if len(execution_log[job])>1:\n",
    "        # move the execution of the failed job to the end of the log\n",
    "        execution_log[job] = [[i[0]+1000, i[1]+1000] for i in execution_log[job]]\n",
    "        # overlap the beginning of the second instance with the first one\n",
    "        execution_log[job][1][0] = execution_log[job][0][1] - 1\n",
    "        execution_log[job][1][1] = execution_log[job][1][0] + job.walltime\n",
    "\n",
    "simulator.test_correctness(execution_log=execution_log)"
   ]
  },
  {
   "cell_type": "code",
   "execution_count": 14,
   "metadata": {},
   "outputs": [
    {
     "name": "stderr",
     "output_type": "stream",
     "text": [
      "Full schedule did not pass sanity check\n"
     ]
    },
    {
     "data": {
      "text/plain": [
       "3"
      ]
     },
     "execution_count": 14,
     "metadata": {},
     "output_type": "execute_result"
    }
   ],
   "source": [
    "# create moments when more than total nodes are allocated\n",
    "start = 0\n",
    "for job in execution_log:\n",
    "    # move the first instance of the failed job to the beginning on the simulation\n",
    "    if len(execution_log[job])>1:\n",
    "        if execution_log[job][0][0] == 1000:\n",
    "            start = 100\n",
    "        end = start + job.request_walltime\n",
    "        execution_log[job][0][0] = start\n",
    "        execution_log[job][0][1] = end\n",
    "simulator.test_correctness(execution_log=execution_log)"
   ]
  },
  {
   "cell_type": "code",
   "execution_count": 15,
   "metadata": {},
   "outputs": [
    {
     "name": "stdout",
     "output_type": "stream",
     "text": [
      "Job 0: 10 nodes; 0.0 submission time; 100.0 total execution time (90.0 requested)\n",
      "[[100, 190], [1089, 1189]]\n",
      "Job 6: 6 nodes; 0.0 submission time; 96.0 total execution time (116.0 requested)\n",
      "[[90, 186]]\n",
      "Job 10: 4 nodes; 0.0 submission time; 59.0 total execution time (99.0 requested)\n",
      "[[90, 149]]\n",
      "Job 9: 2 nodes; 0.0 submission time; 49.0 total execution time (89.0 requested)\n",
      "[[189, 238]]\n"
     ]
    }
   ],
   "source": [
    "# plot the two timeslots that fail the full schedule sanity check\n",
    "for job in execution_log:\n",
    "    if execution_log[job][0][0] <= end and (execution_log[job][0][0]+job.request_walltime) >= start:\n",
    "        print(job)\n",
    "        print(execution_log[job])"
   ]
  },
  {
   "cell_type": "code",
   "execution_count": null,
   "metadata": {},
   "outputs": [],
   "source": []
  }
 ],
 "metadata": {
  "kernelspec": {
   "display_name": "Python 3",
   "language": "python",
   "name": "python3"
  },
  "language_info": {
   "codemirror_mode": {
    "name": "ipython",
    "version": 3
   },
   "file_extension": ".py",
   "mimetype": "text/x-python",
   "name": "python",
   "nbconvert_exporter": "python",
   "pygments_lexer": "ipython3",
   "version": "3.7.1"
  }
 },
 "nbformat": 4,
 "nbformat_minor": 2
}
