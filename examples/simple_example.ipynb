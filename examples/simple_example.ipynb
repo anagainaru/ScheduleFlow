{
 "cells": [
  {
   "cell_type": "code",
   "execution_count": 1,
   "metadata": {},
   "outputs": [],
   "source": [
    "import sys\n",
    "sys.path.append(\"../\")\n",
    "import ScheduleFlow\n",
    "\n",
    "import numpy as np"
   ]
  },
  {
   "cell_type": "code",
   "execution_count": 2,
   "metadata": {},
   "outputs": [],
   "source": [
    "num_processing_units = 10"
   ]
  },
  {
   "cell_type": "code",
   "execution_count": 3,
   "metadata": {},
   "outputs": [
    {
     "name": "stdout",
     "output_type": "stream",
     "text": [
      "Job -1: 10 nodes; 0.0 submission time; 100.0 total execution time (90.0 requested)\n"
     ]
    },
    {
     "data": {
      "text/plain": [
       "{Job(Nodes: 10, Submission: 0.0, Walltime: 100.0, Request: 90.0),\n",
       " Job(Nodes: 7, Submission: 0.0, Walltime: 75.0, Request: 75.0),\n",
       " Job(Nodes: 8, Submission: 0.0, Walltime: 81.0, Request: 81.0),\n",
       " Job(Nodes: 3, Submission: 0.0, Walltime: 36.0, Request: 46.0)}"
      ]
     },
     "execution_count": 3,
     "metadata": {},
     "output_type": "execute_result"
    }
   ],
   "source": [
    "# create workload\n",
    "def create_job_list(num_processing_units, num_jobs):\n",
    "    job_list = set()\n",
    "\n",
    "    for i in range(num_jobs):\n",
    "        execution_time = np.random.randint(11, 100)\n",
    "        request_time = execution_time + int(i / 2) * 10\n",
    "        processing_units = np.random.randint(1, num_processing_units + 1)\n",
    "        submission_time = 0\n",
    "        job_list.add(ScheduleFlow.Application(\n",
    "            processing_units,\n",
    "            submission_time,\n",
    "            execution_time,\n",
    "            [request_time]))\n",
    "    job_list.add(ScheduleFlow.Application(np.random.randint(9, 11), 0,\n",
    "                                          100, [90, 135]))\n",
    "    return job_list\n",
    "\n",
    "job_list = create_job_list(num_processing_units, 3)\n",
    "print(list(job_list)[0])\n",
    "job_list"
   ]
  },
  {
   "cell_type": "code",
   "execution_count": 4,
   "metadata": {},
   "outputs": [
    {
     "data": {
      "text/plain": [
       "Simulator(GIF: False, Check_correctness: True, Loops: 10, Output: <ipykernel.iostream.OutStream object at 0x7fc56f0a1080>, Jobs: 0)"
      ]
     },
     "execution_count": 4,
     "metadata": {},
     "output_type": "execute_result"
    }
   ],
   "source": [
    "# create the simulator\n",
    "job_list = create_job_list(num_processing_units, 10)\n",
    "simulator = ScheduleFlow.Simulator(check_correctness=True,\n",
    "                                   output_file_handler=sys.stdout,\n",
    "                                   loops = 10)\n",
    "simulator"
   ]
  },
  {
   "cell_type": "code",
   "execution_count": 5,
   "metadata": {},
   "outputs": [
    {
     "name": "stdout",
     "output_type": "stream",
     "text": [
      "Batch Scheduler: System: 10 total nodes (10 currently free); 0 jobs in queue; 0 jobs running\n"
     ]
    }
   ],
   "source": [
    "sch = ScheduleFlow.BatchScheduler(ScheduleFlow.System(num_processing_units))\n",
    "print(sch)"
   ]
  },
  {
   "cell_type": "code",
   "execution_count": 6,
   "metadata": {},
   "outputs": [
    {
     "data": {
      "text/plain": [
       "Simulator(GIF: False, Check_correctness: True, Loops: 10, Output: <ipykernel.iostream.OutStream object at 0x7fc56f0a1080>, Jobs: 11)"
      ]
     },
     "execution_count": 6,
     "metadata": {},
     "output_type": "execute_result"
    }
   ],
   "source": [
    "simulator.create_scenario(\"test1\", sch, job_list=job_list)\n",
    "simulator"
   ]
  },
  {
   "cell_type": "code",
   "execution_count": 7,
   "metadata": {},
   "outputs": [
    {
     "name": "stdout",
     "output_type": "stream",
     "text": [
      "Scenario name : system makespan : system utilization : \n",
      "test1 : 688.00 : 0.62 : \n",
      "test1 : 688.00 : 0.62 : \n",
      "test1 : 688.00 : 0.62 : \n",
      "test1 : 688.00 : 0.62 : \n",
      "test1 : 688.00 : 0.62 : \n",
      "test1 : 688.00 : 0.62 : \n",
      "test1 : 688.00 : 0.62 : \n",
      "test1 : 688.00 : 0.62 : \n",
      "test1 : 688.00 : 0.62 : \n",
      "test1 : 688.00 : 0.62 : \n"
     ]
    }
   ],
   "source": [
    "results = simulator.run(metrics=[\"all system\"])"
   ]
  },
  {
   "cell_type": "code",
   "execution_count": 8,
   "metadata": {},
   "outputs": [
    {
     "data": {
      "text/plain": [
       "{'system makespan': 688.0, 'system utilization': 0.6247093023255815}"
      ]
     },
     "execution_count": 8,
     "metadata": {},
     "output_type": "execute_result"
    }
   ],
   "source": [
    "results"
   ]
  },
  {
   "cell_type": "code",
   "execution_count": 9,
   "metadata": {},
   "outputs": [
    {
     "data": {
      "text/plain": [
       "Simulator(GIF: False, Check_correctness: True, Loops: 1, Output: None, Jobs: 0)"
      ]
     },
     "execution_count": 9,
     "metadata": {},
     "output_type": "execute_result"
    }
   ],
   "source": [
    "simulator = ScheduleFlow.Simulator(check_correctness=True)\n",
    "simulator"
   ]
  },
  {
   "cell_type": "code",
   "execution_count": 12,
   "metadata": {},
   "outputs": [
    {
     "name": "stdout",
     "output_type": "stream",
     "text": [
      "{'job failures': 1.0, 'job response time': 319.1818181818182, 'job stretch': 9.581087472511957, 'job utilization': 0.6508398393323233, 'job wait time': 240.66666666666666, 'system makespan': 598.0, 'system utilization': 0.5568561872909699}\n",
      "{'job failures': 1.0, 'job response time': 395.09090909090907, 'job stretch': 6.60229987904446, 'job utilization': 0.7299589644992353, 'job wait time': 291.75, 'system makespan': 668.0, 'system utilization': 0.6782934131736527}\n",
      "{'job failures': 1.0, 'job response time': 357.1363636363636, 'job stretch': 8.091693675778208, 'job utilization': 0.6903994019157793, 'job wait time': 266.2083333333333, 'system makespan': 633.0, 'system utilization': 0.6175748002323113}\n"
     ]
    }
   ],
   "source": [
    "loops = 2\n",
    "avg_results = {}\n",
    "for i in range(loops):\n",
    "    job_list = create_job_list(num_processing_units, 10)\n",
    "    results = simulator.run_scenario(\n",
    "        \"test2\", sch, job_list, metrics=[\"utilization\", \"response time\", \"wait time\"])\n",
    "    print(results)\n",
    "    if len(avg_results)==0:\n",
    "        avg_results = results\n",
    "    else:\n",
    "        avg_results = {i:avg_results[i]+results[i] for i in avg_results}\n",
    "avg_results = {i:avg_results[i]/loops for i in avg_results}\n",
    "print(avg_results)"
   ]
  },
  {
   "cell_type": "code",
   "execution_count": null,
   "metadata": {},
   "outputs": [],
   "source": []
  }
 ],
 "metadata": {
  "kernelspec": {
   "display_name": "Python 3",
   "language": "python",
   "name": "python3"
  },
  "language_info": {
   "codemirror_mode": {
    "name": "ipython",
    "version": 3
   },
   "file_extension": ".py",
   "mimetype": "text/x-python",
   "name": "python",
   "nbconvert_exporter": "python",
   "pygments_lexer": "ipython3",
   "version": "3.7.1"
  }
 },
 "nbformat": 4,
 "nbformat_minor": 2
}
